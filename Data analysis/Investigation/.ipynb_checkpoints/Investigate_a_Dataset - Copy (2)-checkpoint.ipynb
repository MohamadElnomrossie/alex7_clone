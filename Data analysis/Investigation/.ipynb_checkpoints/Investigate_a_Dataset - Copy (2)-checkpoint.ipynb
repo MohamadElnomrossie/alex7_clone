{
 "cells": [
  {
   "cell_type": "markdown",
   "metadata": {},
   "source": [
    "<a id='intro'></a>\n",
    "## Introduction\n",
    "\n",
    "The dataset contains data about the patients missing doctor appointments. It includes 110527 data samples with 22319 data samples showing patiets who missed the appointments representing 20% of the whole dataset.\n",
    "\n",
    "## Questions to be answered:\n",
    "<h3>1.How many people did not show up for the appointment?</h3><br>\n",
    "<h3>2. What is the ratio of men to women concerning attending or missing the appointments?</h3><br>\n",
    "<h3>3. Does the sms_received column have an impact on the indivduals attendance?</h3><br>\n",
    "<h3>4. Who are most likely not to show up ?</h3><br>\n"
   ]
  },
  {
   "cell_type": "code",
   "execution_count": 1,
   "metadata": {},
   "outputs": [],
   "source": [
    "import pandas as pd\n",
    "import numpy as np\n",
    "import matplotlib.pyplot as plt\n",
    "import seaborn as sb\n",
    "%matplotlib inline"
   ]
  }
 ],
 "metadata": {
  "kernelspec": {
   "display_name": "Python 3 (ipykernel)",
   "language": "python",
   "name": "python3"
  },
  "language_info": {
   "codemirror_mode": {
    "name": "ipython",
    "version": 3
   },
   "file_extension": ".py",
   "mimetype": "text/x-python",
   "name": "python",
   "nbconvert_exporter": "python",
   "pygments_lexer": "ipython3",
   "version": "3.9.13"
  }
 },
 "nbformat": 4,
 "nbformat_minor": 2
}
