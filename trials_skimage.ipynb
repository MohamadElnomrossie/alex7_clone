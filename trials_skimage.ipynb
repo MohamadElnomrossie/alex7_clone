{
 "cells": [
  {
   "cell_type": "code",
   "execution_count": 59,
   "id": "7f2dc837-69b5-4d7e-951e-7a7f31ccb8b2",
   "metadata": {},
   "outputs": [],
   "source": [
    "from sklearn.datasets import load_digits\n",
    "from skimage.io import imread\n",
    "from skimage.transform import resize\n",
    "import numpy as np\n",
    "from sklearn.model_selection import train_test_split\n",
    "from sklearn.svm import SVC\n",
    "from sklearn.metrics import classification_report\n",
    "import matplotlib.pyplot as plt"
   ]
  },
  {
   "cell_type": "code",
   "execution_count": 31,
   "id": "b1d9a1f0-937a-43b9-aff5-d160110e9a2d",
   "metadata": {},
   "outputs": [],
   "source": [
    "X,y=load_digits(return_X_y=True)\n",
    "X_train,X_test,y_train,y_test=train_test_split(X,y,random_state=42)\n",
    "sv=SVC()\n",
    "sv.fit(X_train,y_train)\n",
    "pred=sv.predict(X_test)\n",
    "print(classification_report(y_test,pred))"
   ]
  },
  {
   "cell_type": "code",
   "execution_count": 58,
   "id": "edd9fb74-7c1e-48bd-9f07-2e28cd83385d",
   "metadata": {},
   "outputs": [
    {
     "data": {
      "text/plain": [
       "array([ 0.,  0.,  2., 15., 15., 16., 11.,  0.,  0.,  0.,  8., 16., 11.,\n",
       "        3.,  0.,  0.,  0.,  0., 13.,  9.,  0.,  0.,  0.,  0.,  0.,  5.,\n",
       "       16.,  3.,  9., 11.,  3.,  0.,  0., 10., 15., 15., 16., 16., 11.,\n",
       "        0.,  0.,  6., 16., 10.,  7., 16.,  5.,  0.,  0.,  0.,  3.,  4.,\n",
       "       15.,  8.,  0.,  0.,  0.,  0.,  4., 15.,  7.,  0.,  0.,  0.])"
      ]
     },
     "execution_count": 58,
     "metadata": {},
     "output_type": "execute_result"
    }
   ],
   "source": [
    "X_train[0]"
   ]
  },
  {
   "cell_type": "code",
   "execution_count": 61,
   "id": "9076886c-8cf3-41eb-a53e-38bac1fbc7dc",
   "metadata": {},
   "outputs": [],
   "source": []
  },
  {
   "cell_type": "code",
   "execution_count": 62,
   "id": "6c95d0b2-2a77-4f56-bc8f-56a201c9c6d7",
   "metadata": {},
   "outputs": [
    {
     "data": {
      "text/plain": [
       "array([[ 0.,  0.,  2., 15., 15., 16., 11.,  0.],\n",
       "       [ 0.,  0.,  8., 16., 11.,  3.,  0.,  0.],\n",
       "       [ 0.,  0., 13.,  9.,  0.,  0.,  0.,  0.],\n",
       "       [ 0.,  5., 16.,  3.,  9., 11.,  3.,  0.],\n",
       "       [ 0., 10., 15., 15., 16., 16., 11.,  0.],\n",
       "       [ 0.,  6., 16., 10.,  7., 16.,  5.,  0.],\n",
       "       [ 0.,  0.,  3.,  4., 15.,  8.,  0.,  0.],\n",
       "       [ 0.,  0.,  4., 15.,  7.,  0.,  0.,  0.]])"
      ]
     },
     "execution_count": 62,
     "metadata": {},
     "output_type": "execute_result"
    }
   ],
   "source": [
    "im"
   ]
  },
  {
   "cell_type": "code",
   "execution_count": 70,
   "id": "86dbd168-9932-4506-bf6f-67ce4934dc62",
   "metadata": {},
   "outputs": [
    {
     "data": {
      "text/plain": [
       "<matplotlib.image.AxesImage at 0x17d4ee27910>"
      ]
     },
     "execution_count": 70,
     "metadata": {},
     "output_type": "execute_result"
    },
    {
     "data": {
      "image/png": "[encoded data removed]",
      "text/plain": [
       "<Figure size 100x100 with 1 Axes>"
      ]
     },
     "metadata": {},
     "output_type": "display_data"
    }
   ],
   "source": [
    "im=X_train[1].reshape(8,-1)\n",
    "fig=plt.figure(figsize=(1,1))\n",
    "plt.imshow(im,cmap='gray')"
   ]
  },
  {
   "cell_type": "code",
   "execution_count": 57,
   "id": "5b9e409d-ab5f-4495-a459-8a964e8083b4",
   "metadata": {},
   "outputs": [
    {
     "name": "stdout",
     "output_type": "stream",
     "text": [
      "              precision    recall  f1-score   support\n",
      "\n",
      "           0       1.00      1.00      1.00        43\n",
      "           1       1.00      1.00      1.00        37\n",
      "           2       1.00      1.00      1.00        38\n",
      "           3       1.00      0.98      0.99        46\n",
      "           4       1.00      1.00      1.00        55\n",
      "           5       0.98      0.98      0.98        59\n",
      "           6       0.98      1.00      0.99        45\n",
      "           7       0.98      0.98      0.98        41\n",
      "           8       0.97      0.97      0.97        38\n",
      "           9       0.96      0.96      0.96        48\n",
      "\n",
      "    accuracy                           0.99       450\n",
      "   macro avg       0.99      0.99      0.99       450\n",
      "weighted avg       0.99      0.99      0.99       450\n",
      "\n"
     ]
    }
   ],
   "source": []
  },
  {
   "cell_type": "code",
   "execution_count": null,
   "id": "a12af950-3a6c-4faa-a9a6-42931e6ea699",
   "metadata": {},
   "outputs": [],
   "source": []
  }
 ],
 "metadata": {
  "kernelspec": {
   "display_name": "Python 3 (ipykernel)",
   "language": "python",
   "name": "python3"
  },
  "language_info": {
   "codemirror_mode": {
    "name": "ipython",
    "version": 3
   },
   "file_extension": ".py",
   "mimetype": "text/x-python",
   "name": "python",
   "nbconvert_exporter": "python",
   "pygments_lexer": "ipython3",
   "version": "3.9.0"
  }
 },
 "nbformat": 4,
 "nbformat_minor": 5
}
