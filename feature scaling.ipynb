{
 "cells": [
  {
   "cell_type": "code",
   "execution_count": 61,
   "id": "186a0e5b-5caf-464c-9bc8-f657793175b5",
   "metadata": {},
   "outputs": [],
   "source": [
    "import pandas as pd\n",
    "from sklearn.preprocessing import MinMaxScaler,StandardScaler,OneHotEncoder\n",
    "from sklearn.compose import ColumnTransformer\n",
    "from sklearn.pipeline import Pipeline\n",
    "from sklearn.model_selection import cross_val_score,train_test_split,GridSearchCV\n",
    "from sklearn.tree import DecisionTreeClassifier\n",
    "from sklearn.datasets import load_iris\n",
    "from sklearn.ensemble import RandomForestClassifier"
   ]
  },
  {
   "cell_type": "code",
   "execution_count": 62,
   "id": "1ac667e5-e76e-445c-8aff-a5fcaabfcac2",
   "metadata": {},
   "outputs": [],
   "source": [
    "reg=DecisionTreeClassifier()"
   ]
  },
  {
   "cell_type": "code",
   "execution_count": 63,
   "id": "58f2ec85-b69d-45eb-957d-914522d31219",
   "metadata": {},
   "outputs": [],
   "source": [
    "X,y=load_iris(return_X_y=True)"
   ]
  },
  {
   "cell_type": "code",
   "execution_count": 64,
   "id": "dcb7d464-0301-4d12-93c4-6329d069e18d",
   "metadata": {},
   "outputs": [],
   "source": [
    "X_train,X_test,y_train,y_test=train_test_split(X,y, test_size=.2)"
   ]
  },
  {
   "cell_type": "code",
   "execution_count": 67,
   "id": "8e30c366-9e1d-42e8-a209-29ca4b090fbd",
   "metadata": {},
   "outputs": [],
   "source": [
    "rf=RandomForestClassifier()"
   ]
  },
  {
   "cell_type": "code",
   "execution_count": 68,
   "id": "68e29ba7-65b0-402d-9b0e-7ae5f75ea6f1",
   "metadata": {},
   "outputs": [],
   "source": [
    "params_grid=[\n",
    "    {\n",
    "        'n_estimators':[3,10,30],'max_features':[2,4,6,8]\n",
    "    },\n",
    "    {\n",
    "         'bootstrap':[False],'n_estimators':[3,10],'max_features':[2,3,4]\n",
    "    }\n",
    "]"
   ]
  },
  {
   "cell_type": "code",
   "execution_count": 70,
   "id": "0d39d5da-3897-44b1-966f-098dd43c4ae0",
   "metadata": {},
   "outputs": [],
   "source": [
    "gs=GridSearchCV(rf,params_grid,cv=10, return_train_score=True,n_jobs=4)"
   ]
  },
  {
   "cell_type": "code",
   "execution_count": 66,
   "id": "661ca412-66be-4f7c-8d2a-39c0572c7e3b",
   "metadata": {},
   "outputs": [
    {
     "data": {
      "text/plain": [
       "array([0.83333333, 0.91666667, 1.        , 1.        , 1.        ,\n",
       "       0.83333333, 0.91666667, 0.91666667, 1.        , 0.91666667])"
      ]
     },
     "execution_count": 66,
     "metadata": {},
     "output_type": "execute_result"
    }
   ],
   "source": [
    "gs.be"
   ]
  },
  {
   "cell_type": "code",
   "execution_count": null,
   "id": "11629f90-a900-415a-9055-c07f814a90f9",
   "metadata": {},
   "outputs": [],
   "source": []
  }
 ],
 "metadata": {
  "kernelspec": {
   "display_name": "Python 3 (ipykernel)",
   "language": "python",
   "name": "python3"
  },
  "language_info": {
   "codemirror_mode": {
    "name": "ipython",
    "version": 3
   },
   "file_extension": ".py",
   "mimetype": "text/x-python",
   "name": "python",
   "nbconvert_exporter": "python",
   "pygments_lexer": "ipython3",
   "version": "3.9.0"
  }
 },
 "nbformat": 4,
 "nbformat_minor": 5
}
